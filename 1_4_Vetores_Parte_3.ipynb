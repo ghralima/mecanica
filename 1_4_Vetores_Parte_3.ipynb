{
 "cells": [
  {
   "cell_type": "markdown",
   "metadata": {},
   "source": [
    "**Autor: Gustavo Henrique Reis de Araújo Lima**\n",
    "\n",
    "**Instituição: CEFET - MG - Unidade Contagem**\n",
    "\n",
    "**(feito em Julia 1.4)**\n",
    "\n",
    "**Última atualização: 16/06/2020**\n",
    "\n",
    "**Requisitos: Plots.jl, LaTeXStrings.jl**\n",
    "\n",
    "***\n",
    "# **1. Cinemática**\n",
    "\n",
    "## **1.4 Vetores**\n",
    "\n",
    "### **1.4.6 Vetores na cinemática**\n",
    "\n",
    "Apesar de não termos utilizado nenhuma unidade nos vetores que vimos até aqui, quando utilizamos vetores na Física, todos  representam algum tipo de medida e, portanto, devem ser representados com as unidades de medida adequadas.\n",
    "\n",
    "A trajetória que iremos analisar será nosso primeiro exemplo de movimento em duas dimensões. Não vamos nos preocupar muito aqui com a função que descreve o movimento, vamos utilizá-lo apenas para nos ajudar a visualizar os vetores que utilizamos na Cinemática:"
   ]
  },
  {
   "cell_type": "code",
   "execution_count": null,
   "metadata": {},
   "outputs": [],
   "source": [
    "using Plots\n",
    "using LaTeXStrings\n",
    "using Printf\n",
    "using LinearAlgebra\n",
    "\n",
    "#função para encontrar as coordenadas do texto de identificação do vetor A.\n",
    "#A identificação será colocada na posição média do vetor a uma altura igual a TextHeight.\n",
    "#Para funcionar os eixos x e y tem que ter o mesmo tamanho!\n",
    "function rotate_text(TextHeight::Float64, Vec::Vector{T}) where {T<:Real}\n",
    "    modVec = hypot(Vec[1], Vec[2])\n",
    "    Vec[1] >= 0 && (angVec = asind(Vec[2]/modVec))\n",
    "    Vec[1] < 0 && (angVec = 180 - asind(Vec[2]/modVec))\n",
    "    rotM = [cosd(angVec) sind(angVec)\n",
    "           -sind(angVec) cosd(angVec)]\n",
    "    TextPos = [modVec/2 TextHeight]\n",
    "    return TextPos*rotM\n",
    "end"
   ]
  },
  {
   "cell_type": "code",
   "execution_count": null,
   "metadata": {},
   "outputs": [],
   "source": [
    "default(grid = true, markersize = 4, framestyle = :grid, linewidth = 3, legend = :false,\n",
    "    aspect_ratio = :equal, gridalpha = 1)\n",
    "\n",
    "tempo = range(0, 20, length = 200)\n",
    "\n",
    "x(t) = 5 * t - 0.5 * t ^ 2 * cos(π * t / 5)\n",
    "y(t) = 5 * t + t * sin(π * t / 5)\n",
    "\n",
    "xpos = x.(tempo)\n",
    "ypos = y.(tempo)\n",
    "\n",
    "#scatter([x(0)],[y(0)], color = :red, xaxis = (\"posição em x (m)\", (-100,200)),\n",
    "#    yaxis = (\"posição em y (m)\", (-10,100)))\n",
    "@gif for i = 1: 200\n",
    "    t_str = @sprintf(\"%3.1f\", tempo[i])\n",
    "    time_text = latexstring(\"t = \", t_str, \"\\\\,{\\\\rm s}\")\n",
    "    time_text = replace(time_text, \".\" => \",\\\\!\")\n",
    "    ann_time = [(-75, 0, text(time_text, halign = :left, valign= :bottom, pointsize = 14, color = :red))]\n",
    "    scatter([xpos[i]],[ypos[i]], color = :red, xaxis = (\"posição em x (m)\", (-100,200)),\n",
    "        yaxis = (\"posição em y (m)\", (-10,100)), size = (900,400), markersize = 6)\n",
    "    plot!(xpos[1:i], ypos[1:i], lw = 1, ls = :dash, color = :red, ann = ann_time)\n",
    "end"
   ]
  },
  {
   "cell_type": "markdown",
   "metadata": {},
   "source": [
    "#### **Posição ($\\vec{s}$)**\n",
    "\n",
    "A figura acima mostra como a posição de um certo objeto varia com o tempo. O objeto se movimenta em duas dimensões, então, podemos ver que para representar a sua posição em cada instante precisamos de dois valores de posição: a posição na direção $x$ e a posição na direção $y$.\n",
    "\n",
    "\n",
    "Para ilustrar, vamos escolher dois instantes de tempo aleatórios $t_1$ e $t_2$ durante a trajetória acima, e encontrar a posição do objetos $\\vec{s_1}$ e $\\vec{s_2}$ nesses instantes, respectivamente:"
   ]
  },
  {
   "cell_type": "code",
   "execution_count": null,
   "metadata": {},
   "outputs": [],
   "source": [
    "t1 = rand(0:0.1:20)\n",
    "t2 = rand(t1:0.1:20)\n",
    "\n",
    "x1 = x(t1)\n",
    "y1 = y(t1)\n",
    "\n",
    "x2 = x(t2)\n",
    "y2 = y(t2)\n",
    "\n",
    "x_max = max(x1,x2,0)\n",
    "x_min = min(x1,x2,0)\n",
    "y_max = max(y1,y2)\n",
    "\n",
    "x_limits = (x_min - 50, x_max + 50)\n",
    "y_limits = (0, y_max + 25)\n",
    "\n",
    "t1_str = @sprintf(\"%3.1f\", t1)\n",
    "x1_str = @sprintf(\"%4.1f\", x1)\n",
    "y1_str = @sprintf(\"%4.1f\", y1)\n",
    "\n",
    "t2_str = @sprintf(\"%3.1f\", t2)\n",
    "x2_str = @sprintf(\"%4.1f\", x2)\n",
    "y2_str = @sprintf(\"%4.1f\", y2)\n",
    "\n",
    "s1_pos = rotate_text(5.0, [x1,y1])\n",
    "s1_ang = atand(y1/x1)\n",
    "\n",
    "s2_pos = rotate_text(-5.0, [x2,y2])\n",
    "s2_ang = atand(y2/x2)\n",
    "\n",
    "\n",
    "s1_txt = latexstring(\"\\\\vec{s}_1 (\", t1_str, \"\\\\,{\\\\rm s}) = \\\\left(\", x1_str, \"\\\\,{\\\\rm m},\", y1_str, \n",
    "    \"\\\\,{\\\\rm m}\\\\right)\")\n",
    "s1_txt = replace(s1_txt, \".\" => \",\\\\!\")\n",
    "\n",
    "s2_txt = latexstring(\"\\\\vec{s}_2 (\", t2_str, \"\\\\,{\\\\rm s}) = \\\\left(\", x2_str, \"\\\\,{\\\\rm m},\", y2_str, \n",
    "    \"\\\\,{\\\\rm m}\\\\right)\")\n",
    "s2_txt = replace(s2_txt, \".\" => \",\\\\!\")\n",
    "\n",
    "an_pos = [(s1_pos[1], s1_pos[2], text(s1_txt, halign = :center, valign = :top, color = :red, pointsize = 12,\n",
    "            rotation = s1_ang)),\n",
    "    (s2_pos[1], s2_pos[2], text(s2_txt, halign = :center, valign = :top, color = :dodgerblue, pointsize = 12,\n",
    "            rotation = s2_ang))]\n",
    "\n",
    "plot(xpos, ypos, ls = :dash, lw = 2, alpha = 0.5, color = :red)\n",
    "scatter!([x1,x2],[y1,y2], color = [:red, :blue], xaxis = (\"posição em x (m)\", x_limits),\n",
    "        yaxis = (\"posição em y (m)\", y_limits), size = (900,600), markersize = 6,ann = an_pos,\n",
    "        framestyle = :zerolines)\n",
    "quiver!([0],[0], quiver = ([x1],[y1]), color = :red)\n",
    "quiver!([0],[0], quiver = ([x2],[y2]), color = :dodgerblue)"
   ]
  },
  {
   "cell_type": "code",
   "execution_count": null,
   "metadata": {},
   "outputs": [],
   "source": [
    "latexstring(s1_txt, \" \\$\\\\newline\\$  \", s2_txt)"
   ]
  },
  {
   "cell_type": "markdown",
   "metadata": {},
   "source": [
    "No exemplo acima, representamos a posição utilizando o **metro** como unidade de medida de posição. Podemos utilizar qualquer unidade de medida de comprimento para isso, não apenas o **metro**, mas o ideal é manter as mesmas unidades de posição em todas as direções. Todas as posições foram medidas utilizando a origem do movimento como ponto de referência. \n",
    "\n",
    "O módulo do vetor posição representa a distância entre o objeto e o ponto de referência, e como vimos, a distância é a hipotenusa do triângulo retângulo formado a partir das componentes do vetor, cada componente é um dos catetos do triângulo retângulo.\n",
    "\n",
    "\n",
    "#### **Deslocamento ($\\vec{\\Delta s}$)**\n",
    "\n",
    "Já o deslocamento $\\vec{\\Delta s_{12}}$ entre as posições $\\vec{s_1}$ e $\\vec{s_2}$ é o vetor que sai da extremidade de $\\vec{s_1}$ e chega à extremidade de $\\vec{s_2}$, ou seja,\n",
    "\n",
    "$$\\vec{\\Delta s_{12}} = \\vec{s_2} - \\vec{s_1}.$$\n",
    "\n",
    "A subtração (ou soma) de dois (ou mais) vetores posição medidos em **metros**, tem como resultado outro vetor escrito nas mesmas unidades de medida, no caso **metro**. O deslocamento $\\vec{\\Delta s_{12}}$ está representado na figura abaixo:"
   ]
  },
  {
   "cell_type": "code",
   "execution_count": null,
   "metadata": {},
   "outputs": [],
   "source": [
    "Δs12 = [x2 - x1, y2 - y1]\n",
    "\n",
    "Δx12_str = @sprintf(\"%4.1f\", x2 - x1)\n",
    "Δy12_str = @sprintf(\"%4.1f\", y2 - y1)\n",
    "\n",
    "Δs12_text = latexstring(\"\\\\vec{\\\\Delta s_{12}} = \\\\left(\", Δx12_str, \"\\\\,{\\\\rm m}, \", \n",
    "    Δy12_str, \"\\\\,{\\\\rm m}\\\\right)\")\n",
    "Δs12_text = replace(Δs12_text, \".\" => \",\\\\!\")\n",
    "\n",
    "Δs12_pos = rotate_text(8.0, Δs12)\n",
    "Δs12_ang = atand(Δs12[2]/Δs12[1])\n",
    "\n",
    "an_pos = [(s1_pos[1], s1_pos[2], text(s1_txt, halign = :center, valign = :center, color = :red, pointsize = 12,\n",
    "            rotation = s1_ang)),\n",
    "          (s2_pos[1], s2_pos[2], text(s2_txt, halign = :center, valign = :center, color = :dodgerblue, pointsize = 12,\n",
    "            rotation = s2_ang)),\n",
    "          (x1 + Δs12_pos[1], y1 + Δs12_pos[2], text(Δs12_text, halign = :center, valign = :center, color = :forestgreen,\n",
    "            pointsize = 12, rotation = Δs12_ang))]\n",
    "\n",
    "plot(xpos, ypos, ls = :dash, lw = 2, alpha = 0.5, color = :red)\n",
    "scatter!([x1,x2],[y1,y2], color = [:red, :blue], xaxis = (\"posição em x (m)\", x_limits),\n",
    "        yaxis = (\"posição em y (m)\", y_limits), size = (900,600), markersize = 6, framestyle = :zerolines)\n",
    "quiver!([0],[0], quiver = ([x1],[y1]), color = :red, alpha = 0.5, lw = 2)\n",
    "quiver!([0],[0], quiver = ([x2],[y2]), color = :dodgerblue, alpha = 0.5, lw = 2)\n",
    "quiver!([x1],[y1], quiver = ([x2-x1],[y2-y1]), color = :forestgreen, ann = an_pos)"
   ]
  },
  {
   "cell_type": "code",
   "execution_count": null,
   "metadata": {},
   "outputs": [],
   "source": [
    "latexstring(Δs12_text)"
   ]
  },
  {
   "cell_type": "markdown",
   "metadata": {},
   "source": [
    "O módulo do deslocamento entre $t_1$ e $t_2$, representa a distância em linha reta entre as posições $\\vec{s}_1$ e $\\vec{s}_2$. O módulo do deslocamento é calculado abaixo:"
   ]
  },
  {
   "cell_type": "code",
   "execution_count": null,
   "metadata": {},
   "outputs": [],
   "source": [
    "Δs12_mod = hypot(Δs12[1],Δs12[2])\n",
    "Δs12_mod_str = @sprintf(\"%4.1f\", Δs12_mod)\n",
    "Δs12_mod_text = latexstring(\"\\\\Delta s_{12} = \", Δs12_mod_str, \"\\\\,{\\\\rm m}.\")\n",
    "Δs12_mod_text = replace(Δs12_mod_text, \".\" => \",\\\\!\")\n",
    "latexstring(Δs12_mod_text)"
   ]
  },
  {
   "cell_type": "markdown",
   "metadata": {},
   "source": [
    "#### **Distância percorrida ($D$)**\n",
    "\n",
    "A distância total percorrida entre dois instantes de tempo, em geral, não será igual ao módulo do deslocamento. Essa diferença ocorre sempre que ocorre mudança no sentido do movimento do objeto em alguma direção.\n",
    "\n",
    "O cálculo da distância percorrida $D_{12}$ entre dois instantes $t_1$ e $t_2$, na maioria das vezes, não é um cálculo simples de ser feito, e requer um certo conhecimento de Cálculo Diferencial e Integral. O código abaixo consegue calcular a distância percorrida entre $t_1$ e $t_2$:"
   ]
  },
  {
   "cell_type": "code",
   "execution_count": null,
   "metadata": {},
   "outputs": [],
   "source": [
    "dist_x = 0\n",
    "dist_y = 0\n",
    "\n",
    "t_d = t1\n",
    "dt = 0.0001\n",
    "\n",
    "while t_d < t2\n",
    "    Dx = x(t_d + dt) - x(t_d)\n",
    "    Dy = y(t_d + dt) - y(t_d)\n",
    "    dist_x += abs(Dx)\n",
    "    dist_y += abs(Dy)\n",
    "    t_d += dt\n",
    "end\n",
    "    \n",
    "dist = hypot(dist_x, dist_y)\n",
    "dist_x_str = @sprintf(\"%4.2f\", dist_x)\n",
    "dist_y_str = @sprintf(\"%4.2f\", dist_y)\n",
    "dist_str = @sprintf(\"%4.2f\", dist)\n",
    "dist_str = replace(dist_str, \".\" => \",\")\n",
    "latexstring(\"D_{12} = \", dist_str, \"\\\\, {\\\\rm m}.\")"
   ]
  },
  {
   "cell_type": "markdown",
   "metadata": {},
   "source": [
    "A distância percorrida representa o comprimento da trajetória durante um certo intervalo de tempo. A distância percorrida nunca será menor que o módulo do deslocamento. A distância percorrida deve ser sempre maior ou igual ao deslocamento:\n",
    "\n",
    "$$ D_{12} \\geq \\Delta s.$$\n",
    "\n",
    "#### **Velocidade média ($\\vec{v}_{\\rm med}$)**\n",
    "\n",
    "Se conhecemos o deslocamento $\\vec{\\Delta s}$ durante um certo intervalo de tempo $\\Delta t$, a velocidade média neste intervalo é: \n",
    "\n",
    "$$\\vec{v}_{\\rm med} = \\frac{\\vec{\\Delta s}}{\\Delta t}.$$\n",
    "\n",
    "Quando multiplicamos ou dividimos um vetor por uma grandeza escalar, obtemos um outro vetor que tem a mesma direção que o vetor que foi dividido. Se o vetor é dividido por um escalar negativo, o sentido do vetor obtido é contrário ao do vetor que foi dividido.  Assim sendo, $\\vec{v}_{\\rm med}$ e $\\vec{\\Delta s}_{12}$ sempre terão a mesma direção e mesmo sentido! \n",
    "\n",
    "**A velocidade média sempre tem a mesma direção e sentido do deslocamento!**\n",
    "\n",
    "Já a unidade de medida do resultado será igual ao resultado da mesma operação realizada sobre os vetores aplicada às unidades de medida. O vetor velocidade média para o deslocamento ilustrado acima, pode ser visto abaixo:"
   ]
  },
  {
   "cell_type": "code",
   "execution_count": null,
   "metadata": {},
   "outputs": [],
   "source": [
    "vmed12 = Δs12/(t2-t1)\n",
    "rpdmed12 = dist/(t2-t1)\n",
    "\n",
    "vmedx12 = @sprintf(\"%3.1f\", vmed12[1])\n",
    "vmedy12 = @sprintf(\"%3.1f\", vmed12[2])\n",
    "\n",
    "vmed_str = latexstring(\"\\\\vec{v}_{\\\\rm med, 12} = \\\\left(\", vmedx12, \"\\\\,{\\\\rm m/s}, \", vmedy12,\n",
    "    \"\\\\,{\\\\rm m/s} \\\\right)\")\n",
    "vmed_str = replace(vmed_str, \".\" => \",\\\\!\")\n",
    "\n",
    "vmed_pos = rotate_text(-8.0,vmed12)\n",
    "\n",
    "\n",
    "an_vel = [(x1 + Δs12_pos[1], y1 + Δs12_pos[2], text(Δs12_text, halign = :center, valign = :center, color = :forestgreen,\n",
    "            pointsize = 12, rotation = Δs12_ang)),\n",
    "          ( (x1+x2)/2 + vmed_pos[1], (y1+y2)/2 - 8 + vmed_pos[2], text(vmed_str, halign = :center,\n",
    "            valign = :center, color = :orange, pointsize = 12, rotation = Δs12_ang))]\n",
    "\n",
    "plot(xpos, ypos, ls = :dash, lw = 2, alpha = 0.5, color = :red)\n",
    "scatter!([x1,x2],[y1,y2], color = [:red, :blue], xaxis = (\"posição em x (m)\", x_limits),\n",
    "        yaxis = (\"posição em y (m)\", y_limits), size = (900,600), markersize = 6, framestyle = :zerolines)\n",
    "#quiver!([0],[0], quiver = ([x1],[y1]), color = :red, alpha = 0.5, lw = 2)\n",
    "#quiver!([0],[0], quiver = ([x2],[y2]), color = :dodgerblue, alpha = 0.5, lw = 2)\n",
    "quiver!([x1],[y1], quiver = ([x2-x1],[y2-y1]), color = :forestgreen, ann = an_vel, alpha = 0.5)\n",
    "quiver!([(x1+x2)/2],[(y1+y2)/2 - 10], quiver = ([vmed12[1]],[vmed12[2]]), color = :orange)"
   ]
  },
  {
   "cell_type": "code",
   "execution_count": null,
   "metadata": {},
   "outputs": [],
   "source": [
    "vmed_txt = latexstring(\"{\\\\rm Entre ~\", t1_str, \"\\\\, s  ~ e \\\\,\", t2_str, \"\\\\, s:} ~  \\\\vec{v}_{\\\\rm med,12} = \\\\left(\", \n",
    "    vmedx12, \"\\\\,{\\\\rm m/s}, \", vmedy12, \"\\\\,{\\\\rm m/s} \\\\right)\")\n",
    "vmed_txt = replace(vmed_txt, \".\" => \",\\\\!\")\n",
    "latexstring(vmed_txt)"
   ]
  },
  {
   "cell_type": "markdown",
   "metadata": {},
   "source": [
    "Ao dividirmos a unidade de comprimento **metro** pela unidade de tempo **segundo**, obtemos a unidade de velocidade **metro por segundo (m/s)**. O módulo da velocidade média é calculado abaixo:"
   ]
  },
  {
   "cell_type": "code",
   "execution_count": null,
   "metadata": {},
   "outputs": [],
   "source": [
    "vmed_mod = hypot(vmed12[1], vmed12[2])\n",
    "vmed_mod_str = @sprintf(\"%3.1f\", vmed_mod)\n",
    "\n",
    "vmed_mod_txt = latexstring(\"v_{\\\\rm med, 12} = \", vmed_mod_str, \"\\\\,{\\\\rm m/s}\")\n",
    "vmed_mod_txt = replace(vmed_mod_txt, \".\" => \",\\\\!\")\n",
    "\n",
    "latexstring(vmed_mod_txt)"
   ]
  },
  {
   "cell_type": "markdown",
   "metadata": {},
   "source": [
    "#### **Rapidez média (${\\rm rpd}_{\\rm med}$)**\n",
    "\n",
    "Como sabemos o velor da distância total percorrida entre $t_1$ e $t_2$, conseguimos calcular a rapidez média durante esse intervalo:\n",
    "\n",
    "$${\\rm rpd_{med,12}} = \\frac{D_{12}}{\\Delta t_{12}}.$$\n",
    "\n",
    "Relembrando que a rapidez média e distância percorrida são grandezas escalares!\n",
    "\n",
    "A rapidez média no intervalo ilustrado na figura é calculado abaixo: "
   ]
  },
  {
   "cell_type": "code",
   "execution_count": null,
   "metadata": {},
   "outputs": [],
   "source": [
    "rpdmed12_str = @sprintf(\"%3.1f\", rpdmed12)\n",
    "rpdmed12_txt = latexstring(\"{\\\\rm rpd_{med,12}} = \", rpdmed12_str, \"\\\\, {\\\\rm m/s}.\")\n",
    "rpdmed12_txt = replace(rpdmed12_txt, \".\" => \",\\\\!\")\n",
    "latexstring(rpdmed12_txt)"
   ]
  },
  {
   "cell_type": "markdown",
   "metadata": {},
   "source": [
    "A rapidez média será igual ao módulo da velocidade média apenas em casos onde não há variação no sentido de movimento dos objetos, em nenhuma das direções de movimento. A rapidez média em um intervalo de tempo nunca será menor que o módulo da velocidade média no mesmo intervalo de tempo, mas será **sempre** maior ou igual ao módulo da velocidade média:\n",
    "\n",
    "$${\\rm rpd_{med}} \\geq v_{\\rm med}.$$"
   ]
  },
  {
   "cell_type": "markdown",
   "metadata": {},
   "source": [
    "#### **Velocidade instantânea, $\\vec{v}(t)$**\n",
    "\n",
    "A velocidade instantânea $\\vec{v}(t)$ é o vetor que representa a velocidade do objeto no instante $t$. É simples obter a velocidade instantânea de um objeto no caso de movimentos uniformes ou uniformemente acelerados, mas a maioria dos movimentos não se encaixa em nenhum desses. Nesses casos devemos calcular o deslocamento $\\Delta s$ do objeto durante um intervalo de tempo muito pequeno, no limite em que $\\Delta t$ tende para *zero* ($\\Delta t \\rightarrow 0$):\n",
    "\n",
    "$$\\vec{v}(t) = \\lim_{\\Delta t\\to 0} \\frac{\\vec{\\Delta s}}{\\Delta t} = \\lim_{\\Delta t\\to 0} \\frac{\\vec{s}(t+\\Delta t) - {\\vec{s}(t)}}{\\Delta t}.$$\n",
    "\n",
    "Como conhecemos a trajetória do objeto, e conseguimos calcular a posição do objeto em qualquer instante de tempo, podemos utilizar a técnica acima para calcular as velocidades instantâneas $\\vec{v}_1$ e $\\vec{v}_2$, nos instantes $t_1$ e $t_2$, respectivamente. Essas velocidades estão representadas na próxima figura:"
   ]
  },
  {
   "cell_type": "code",
   "execution_count": null,
   "metadata": {},
   "outputs": [],
   "source": [
    "#vx(t) = 5 - t * cos(π*t/5) + (π/10) * t ^ 2 * sin(π*t/5)\n",
    "#vy(t) = 5 + sin(π*t/5) + (π/5) * t * cos(π*t/5)\n",
    "\n",
    "vx1 = (x(t1+dt/2)-x(t1-dt/2))/dt\n",
    "vy1 = (y(t1+dt/2)-y(t1-dt/2))/dt\n",
    "\n",
    "vx2 = (x(t2+dt/2)-x(t2-dt/2))/dt\n",
    "vy2 = (y(t2+dt/2)-y(t2-dt/2))/dt\n",
    "\n",
    "v1 = [vx1, vy1]\n",
    "v2 = [vx2, vy2]\n",
    "\n",
    "v1_pos = rotate_text(2.5, v1)\n",
    "v1_ang = atand(v1[2]/v1[1])\n",
    "\n",
    "v2_pos = rotate_text(-2.5, v2)\n",
    "v2_ang = atand(v2[2]/v2[1])\n",
    "\n",
    "v1_str = [@sprintf(\"%3.2f\", v1[1]), @sprintf(\"%3.2f\", v1[2])]\n",
    "v2_str = [@sprintf(\"%3.2f\", v2[1]), @sprintf(\"%3.2f\", v2[2])]\n",
    "\n",
    "v1_text = latexstring(\"\\\\vec{v}_1 = \\\\left(\", v1_str[1], \"\\\\,{\\\\rm m/s}, \", v1_str[2], \n",
    "    \"\\\\,{\\\\rm m/s} \\\\right)\")\n",
    "v1_text = replace(v1_text, \".\" => \",\\\\!\")\n",
    "\n",
    "v2_text = latexstring(\"\\\\vec{v}_2 = \\\\left(\", v2_str[1], \"\\\\,{\\\\rm m/s}, \", v2_str[2], \n",
    "    \"\\\\,{\\\\rm m/s} \\\\right)\")\n",
    "v2_text = replace(v2_text, \".\" => \",\\\\!\")\n",
    "\n",
    "an_vinst = [(x1 + v1_pos[1], y1 + v1_pos[2], text(v1_text, halign = :center, valign = :center, \n",
    "            rotation = v1_ang, pointsize = 12, color = :red)),\n",
    "            (x2 + v2_pos[1], y2 + v2_pos[2], text(v2_text, halign = :center, valign = :center, \n",
    "            rotation = v2_ang, pointsize = 12, color = :dodgerblue))]\n",
    "\n",
    "plot(xpos, ypos, ls = :dash, lw = 2, alpha = 0.5, color = :red)\n",
    "scatter!([x1,x2],[y1,y2], color = [:red, :dodgerblue], xaxis = (\"posição em x (m)\", x_limits),\n",
    "        yaxis = (\"posição em y (m)\", y_limits), size = (900,600), markersize = 6, framestyle = :zerolines)\n",
    "quiver!([x1],[y1], quiver = ([v1[1]],[v1[2]]), color = :red)\n",
    "quiver!([x2],[y2], quiver = ([v2[1]],[v2[2]]), color = :dodgerblue, ann = an_vinst)"
   ]
  },
  {
   "cell_type": "code",
   "execution_count": null,
   "metadata": {},
   "outputs": [],
   "source": [
    "latexstring(v1_text)"
   ]
  },
  {
   "cell_type": "code",
   "execution_count": null,
   "metadata": {},
   "outputs": [],
   "source": [
    "latexstring(v2_text)"
   ]
  },
  {
   "cell_type": "markdown",
   "metadata": {},
   "source": [
    "Vamos chamar a velocidade instantânea, simplesmente de velocidade. Podemos ver na imagem acima, que o vetor que representa a velocidade em um certo instante é **sempre tangente** à trajetória do objeto naquele instante.\n",
    "\n",
    "Na animação abaixo podemos ver como a velocidade do objeto varia durante a trajetória."
   ]
  },
  {
   "cell_type": "code",
   "execution_count": null,
   "metadata": {},
   "outputs": [],
   "source": [
    "npoints = 500\n",
    "tempo = range(0,20,length = npoints)\n",
    "xpos = x.(tempo)\n",
    "ypos = y.(tempo)\n",
    "\n",
    "xmax = maximum(xpos)\n",
    "xmin = minimum(xpos)\n",
    "\n",
    "ymax = maximum(ypos)\n",
    "ymin = minimum(ypos)\n",
    "\n",
    "@gif for i = 1:npoints\n",
    "    t_str = @sprintf(\"%4.2f\", tempo[i])\n",
    "    time_text = latexstring(\"t = \", t_str, \"\\\\,{\\\\rm s}\")\n",
    "    time_text = replace(time_text, \".\" => \",\\\\!\")\n",
    "    ann_time = [(-100, 0, text(time_text, halign = :left, valign= :bottom, pointsize = 14, color = :red))]\n",
    "    \n",
    "    vx = (x(tempo[i]+dt/2)-x(tempo[i]-dt/2))/dt\n",
    "    vy = (y(tempo[i]+dt/2)-y(tempo[i]-dt/2))/dt\n",
    "    \n",
    "    v_str = [@sprintf(\"%4.2f\", vx), @sprintf(\"%4.2f\", vy)]\n",
    "    v_text = latexstring(\"\\\\vec{v} = (\", v_str[1], \"\\\\,{\\\\rm m/s}, \", v_str[2], \"\\\\,{\\\\rm m/s})\")\n",
    "    v_text = replace(v_text, \".\" => \",\\\\!\")\n",
    "    ann_vel = [(-100, 15, text(v_text, halign = :left, valign = :bottom, pointsize = 14, color = :dodgerblue))]\n",
    "    \n",
    "    plot(xpos, ypos, ls = :dash, lw = 2, alpha = 0.5, color = :red)\n",
    "    scatter!([xpos[i]],[ypos[i]], color = :dodgerblue, xaxis = (\"posição em x (m)\", (xmin-50,xmax+50)),\n",
    "        yaxis = (\"posição em y (m)\", (ymin-10,ymax+50)), size = (900,400), markersize = 6, ann = ann_time)\n",
    "    quiver!([xpos[i]],[ypos[i]], quiver = ([vx],[vy]), color = :dodgerblue, ann = ann_vel)\n",
    "end"
   ]
  },
  {
   "cell_type": "markdown",
   "metadata": {},
   "source": [
    "A reta tangente a trajetória em um certo ponto é, também, a reta que representa a inclinação da trajetória naquela ponto. Portanto, o vetor velocidade sempre indica a inclinação da trajetória do objeto em um certo instante de tempo. Isso também vale para movimentos no espaço 3-D."
   ]
  },
  {
   "cell_type": "markdown",
   "metadata": {},
   "source": [
    "#### **Rapidez instantânea, rpd($t$)**\n",
    "\n",
    "A rapidez instantânea do objeto, ou simplesmente rapidez do objeto, é o módulo da velocidade instantânea:\n",
    "\n",
    "$${\\rm rpd}(t) = ||\\vec{v}(t)||.$$"
   ]
  },
  {
   "cell_type": "code",
   "execution_count": null,
   "metadata": {},
   "outputs": [],
   "source": [
    "rpd_1 = hypot(vx1,vy1)\n",
    "rpd_1_str = @sprintf(\"%3.2f\", rpd_1)\n",
    "rpd_1_str = replace(rpd_1_str, \".\" => \",\\\\!\")\n",
    "latexstring(\"{\\\\rm rpd}(t_1) = \", rpd_1_str, \"\\\\,{\\\\rm m/s}\")"
   ]
  },
  {
   "cell_type": "code",
   "execution_count": null,
   "metadata": {},
   "outputs": [],
   "source": [
    "rpd_2 = hypot(vx2,vy2)\n",
    "rpd_2_str = @sprintf(\"%3.2f\", rpd_2)\n",
    "rpd_2_str = replace(rpd_2_str, \".\" => \",\\\\!\")\n",
    "latexstring(\"{\\\\rm rpd}(t_2) = \", rpd_2_str, \"\\\\,{\\\\rm m/s}\")"
   ]
  },
  {
   "cell_type": "markdown",
   "metadata": {},
   "source": [
    "A rapidez instantânea é, portanto, sempre positiva."
   ]
  },
  {
   "cell_type": "markdown",
   "metadata": {},
   "source": [
    "#### **Aceleração média, $\\vec{a}_{\\rm med}$**\n",
    "\n",
    "A aceleração média, $\\vec{a}_{\\rm med}$, entre dentro de um intervalo de tempo $\\Delta t$ é:\n",
    "\n",
    "$$\\vec{a}_{\\rm med} = \\frac{\\vec{\\Delta v}}{\\Delta t},$$\n",
    "\n",
    "onde $\\Delta{v}$ é igual a variação da velocidade do objeto entre o início e o final do intervalo acima.\n",
    "\n",
    "Na próxima imagem podemos visualizar como encontrar a variação da velocidade $\\vec{\\Delta v}_{12}$ entre $t_1$ e $t_2$, para a trajetória que estamos analisando:\n",
    "\n",
    "$$\\vec{\\Delta v}_{12} = \\vec{v}_2 - \\vec{v}_1.$$"
   ]
  },
  {
   "cell_type": "code",
   "execution_count": null,
   "metadata": {},
   "outputs": [],
   "source": [
    "np = 50\n",
    "v2_pos_x = vcat(range(x2, x1, length = np), x1 .+ zeros(2*np))\n",
    "v2_pos_y = vcat(range(y2, y1, length = np), y1 .+ zeros(2*np))\n",
    "alpha_plot = vcat(range(1.0, 0.0, length = np), zeros(2*np))\n",
    "Δv12 = v2 - v1\n",
    "\n",
    "Δv12_pos = rotate_text(-2.5, Δv12)\n",
    "Δv12_ang = atand(Δv12[2]/Δv12[1])\n",
    "Δv12_str = [replace(@sprintf(\"%4.2f\", Δv12[1]), \".\" => \",\\\\!\"), \n",
    "    replace(@sprintf(\"%4.2f\", Δv12[2]), \".\" => \",\\\\!\")]\n",
    "Δv12_text = latexstring(\"\\\\vec{\\\\Delta v}_{12} = (\", Δv12_str[1], \"\\\\,{\\\\rm m/s}, \", Δv12_str[2],\n",
    "    \"\\\\,{\\\\rm m/s})\")\n",
    "\n",
    "ann_dv = [(x1 + v1[1] + Δv12_pos[1], y1 + v1[2] + Δv12_pos[2], text(Δv12_text, halign = :center,\n",
    "            valign = :center, rotation = Δv12_ang, pointsize = 12, color = :forestgreen))]\n",
    "\n",
    "Δv12_x_size = vcat(zeros(np), range(0, Δv12[1], length = np), Δv12[1] .+ zeros(np))\n",
    "Δv12_y_size = vcat(zeros(np), range(0, Δv12[2], length = np), Δv12[2] .+ zeros(np))\n",
    "\n",
    "@gif for i = 1: 3*np\n",
    "    an_vinst = [(x1 + v1_pos[1], y1 + v1_pos[2], text(v1_text, halign = :center, valign = :center, \n",
    "            rotation = v1_ang, pointsize = 12, color = :red)),\n",
    "            (v2_pos_x[i] + v2_pos[1], v2_pos_y[i] + v2_pos[2], text(v2_text, halign = :center, \n",
    "                valign = :center, rotation = v2_ang, pointsize = 12, color = :dodgerblue))]\n",
    "\n",
    "    plot(xpos, ypos, ls = :dash, lw = 2, alpha = alpha_plot[i], color = :red, \n",
    "        xaxis = (\"posição em x (m)\", x_limits), yaxis = (\"posição em y (m)\", y_limits), \n",
    "        size = (900,600), framestyle = :zerolines)\n",
    "    #    yaxis = (\"posição em y (m)\", y_limits), size = (900,600), markersize = 6, framestyle = :zerolines,)\n",
    "    #scatter!([x1,x2],[y1,y2], color = [:red, :dodgerblue], xaxis = (\"posição em x (m)\", x_limits),\n",
    "    #    yaxis = (\"posição em y (m)\", y_limits), size = (900,600), markersize = 6, framestyle = :zerolines,\n",
    "    #   alpha = alpha_plot)\n",
    "    quiver!([x1],[y1], quiver = ([v1[1]],[v1[2]]), color = :red)\n",
    "    quiver!([v2_pos_x[i]],[v2_pos_y[i]], quiver = ([v2[1]],[v2[2]]), color = :dodgerblue, ann = an_vinst)\n",
    "    quiver!([x1+v1[1]],[y1+v1[2]], quiver = ([Δv12_x_size[i]],[Δv12_y_size[i]]), color = :forestgreen)\n",
    "    if i>2*np\n",
    "        annotate!(ann_dv)\n",
    "    end\n",
    "end"
   ]
  },
  {
   "cell_type": "code",
   "execution_count": null,
   "metadata": {},
   "outputs": [],
   "source": [
    "Δv12_text"
   ]
  },
  {
   "cell_type": "code",
   "execution_count": null,
   "metadata": {},
   "outputs": [],
   "source": [
    "Δt12 = t2 - t1\n",
    "Δt12_str = @sprintf(\"\\\\Delta t = %3.1f \\\\,{\\\\rm s}\", Δt12)\n",
    "Δt12_str = replace(Δt12_str, \".\" => \",\\\\!\")\n",
    "latexstring(Δt12_str)"
   ]
  },
  {
   "cell_type": "code",
   "execution_count": null,
   "metadata": {},
   "outputs": [],
   "source": [
    "a12_med = Δv12/Δt12\n",
    "a12_med_str = @sprintf(\"\\\\vec{a}_{\\\\rm med, 12} = (%3.2f \\\\,{\\\\rm m/s^2}, %3.2f \\\\,{\\\\rm m/s^2})\", \n",
    "    a12_med[1], a12_med[2])\n",
    "a12_med_str = replace(a12_med_str, \".\" => \",\\\\!\")\n",
    "latexstring(a12_med_str)"
   ]
  },
  {
   "cell_type": "markdown",
   "metadata": {},
   "source": [
    "Na próxima figura temos os vetores $\\vec{v}_1$ e $\\vec{v}_2$, mas agora em um gráfico de velocidade em $x$ por velocidade em $y$. Podemos ainda ver o vetor $\\vec{\\Delta v}_{12}$, e agora também temos o vetor $\\vec{a}_{\\rm med, 12}$. "
   ]
  },
  {
   "cell_type": "code",
   "execution_count": null,
   "metadata": {},
   "outputs": [],
   "source": [
    "a12_med_pos = rotate_text(2.5, a12_med)\n",
    "a12_med_text = latexstring(a12_med_str)\n",
    "\n",
    "ann_vs = [(v1_pos[1], v1_pos[2], text(v1_text, halign = :center, valign = :center, \n",
    "        rotation = v1_ang, pointsize = 14, color = :red)),\n",
    "    (v2_pos[1], v2_pos[2], text(v2_text, halign = :center, \n",
    "        valign = :center, rotation = v2_ang, pointsize = 14, color = :dodgerblue)),\n",
    "    (v1[1] + Δv12_pos[1], v1[2] + Δv12_pos[2], text(Δv12_text, halign = :center,\n",
    "        valign = :center, rotation = Δv12_ang, pointsize = 14, color = :forestgreen)),\n",
    "    (v1[1] + Δv12[1]/2 - a12_med[1]/2 + a12_med_pos[1], v1[2] + 10 + a12_med_pos[2], \n",
    "        text(a12_med_text, halign = :center, valign = :center, rotation = Δv12_ang, \n",
    "        pointsize = 14, color = :goldenrod))]\n",
    "\n",
    "\n",
    "vx_min = min(v1[1],v2[1],0)\n",
    "vx_max = max(v1[1],v2[1],0)\n",
    "vx_limits = (vx_min - 10, vx_max + 10)\n",
    "\n",
    "vy_min = min(v1[2],v2[2],0)\n",
    "vy_max = max(v1[2],v2[2],0)\n",
    "vy_limits = (vy_min - 10, vy_max + 10)\n",
    "\n",
    "quiver([0],[0], quiver = ([v1[1]],[v1[2]]), color = :red, \n",
    "    xaxis = (\"velocidade em x (m/s)\"), yaxis = (\"velocidade em y (m/s)\"),\n",
    "    size = (900,600), framestyle = :zeros)\n",
    "quiver!([0],[0], quiver = ([v2[1]],[v2[2]]), color = :dodgerblue)\n",
    "quiver!([v1[1]],[v1[2]], quiver = ([Δv12[1]],[Δv12[2]]), color = :forestgreen)\n",
    "quiver!([v1[1] + Δv12[1]/2 - a12_med[1]/2], [v1[2]+ 10], quiver = ([a12_med[1]],[a12_med[2]]), color = :orange)\n",
    "annotate!(ann_vs)"
   ]
  },
  {
   "cell_type": "markdown",
   "metadata": {},
   "source": [
    "Podemos ver claramente que $\\vec{a}_{\\rm med,12}$ e $\\vec{\\Delta v}_{12}$ estão na mesma direção e têm o mesmo sentido. **Assim como a velocidade média e o deslocamente sempre têm o mesmo sentido e direção, a aceleração média e a variação da velocidade também sempre têm o mesmo sentido e direção.**"
   ]
  },
  {
   "cell_type": "markdown",
   "metadata": {},
   "source": [
    "#### **Aceleração instantânea, $\\vec{a}(t)$**\n",
    "\n",
    "A aceleração instantânea é a aceleração do objeto em um certo instante $t$, $\\vec{a}(t)$. Devemos utilizar a mesma técnica utilizada para calcular a velocidade instantânea, para calcular $\\vec{a}(t)$:\n",
    "\n",
    "$$\\vec{a}(t) = \\lim_{\\Delta t \\to 0}\\frac{\\vec{\\Delta v}}{\\Delta t} = \\lim_{\\Delta t \\to 0} \\frac{\\vec{v}(t+\\Delta t) - \\vec{v}(t)}{\\Delta t}.$$\n",
    "\n",
    "Utilizando a técnica acima, conseguimos calcular as acelerações instantâneas $\\vec{a}_1$ e $\\vec{a}_2$ nos instantes $t_1$ e $t_2$, respectivamente:"
   ]
  },
  {
   "cell_type": "code",
   "execution_count": null,
   "metadata": {},
   "outputs": [],
   "source": [
    "ax1 = (x(t1+dt) -2*x(t1) + x(t1-dt))/(dt^2)\n",
    "ay1 = (y(t1+dt) -2*y(t1) + y(t1-dt))/(dt^2)\n",
    "a1 = [ax1, ay1]\n",
    "\n",
    "ax2 = (x(t2+dt) -2*x(t2) + x(t2-dt))/(dt^2)\n",
    "ay2 = (y(t2+dt) -2*y(t2) + y(t2-dt))/(dt^2)\n",
    "a2 = [ax2, ay2]\n",
    "\n",
    "a1_str = @sprintf(\"\\\\vec{a}_1 = (%4.2f \\\\,{\\\\rm m/s^2}, %4.2f \\\\,{\\\\rm m/s^2})\", ax1, ay1)\n",
    "a1_str = replace(a1_str, \".\" => \",\\\\!\")\n",
    "a2_str = @sprintf(\"\\\\vec{a}_2 = (%4.2f \\\\,{\\\\rm m/s^2}, %4.2f \\\\,{\\\\rm m/s^2})\", ax2, ay2)\n",
    "a2_str = replace(a2_str, \".\" => \",\\\\!\")\n",
    "\n",
    "latexstring(a1_str)"
   ]
  },
  {
   "cell_type": "code",
   "execution_count": null,
   "metadata": {},
   "outputs": [],
   "source": [
    "latexstring(a2_str)"
   ]
  },
  {
   "cell_type": "code",
   "execution_count": null,
   "metadata": {},
   "outputs": [],
   "source": [
    "v1_pos = rotate_text(3.5, v1)\n",
    "v2_pos = rotate_text(3.5, v2)\n",
    "a1_pos = rotate_text(-3.5, a1)\n",
    "a1_ang = atand(a1[2]/a1[1])\n",
    "a2_pos = rotate_text(3.5, a2)\n",
    "a2_ang = atand(a2[2]/a2[1])\n",
    "\n",
    "v1_text = latexstring(\"\\\\vec{v}_{1}\")\n",
    "a1_text = latexstring(\"\\\\vec{a}_{1}\")\n",
    "v2_text = latexstring(\"\\\\vec{v}_{2}\")\n",
    "a2_text = latexstring(\"\\\\vec{a}_{2}\")\n",
    "\n",
    "an_acel = [(x1 + v1_pos[1], y1 + v1_pos[2], text(v1_text, halign = :center, valign = :center, \n",
    "            rotation = v1_ang, pointsize = 14, color = :lightcoral)),\n",
    "            (x2 + v2_pos[1], y2 + v2_pos[2], text(v2_text, halign = :center, valign = :center, \n",
    "            rotation = v2_ang, pointsize = 14, color = :cadetblue)),\n",
    "            (x1 + a1_pos[1], y1 + a1_pos[2], text(a1_text, halign = :center, valign = :center, \n",
    "            rotation = a1_ang, pointsize = 14, color = :maroon)),\n",
    "            (x2 + a2_pos[1], y2 + a2_pos[2], text(a2_text, halign = :center, valign = :center, \n",
    "            rotation = a2_ang, pointsize = 14, color = :dodgerblue))]\n",
    "\n",
    "plot(xpos, ypos, ls = :dash, lw = 2, alpha = 0.2, color = :red, legend = false, label = \"trajetória\")\n",
    "scatter!([x1,x2],[y1,y2], color = [:red, :dodgerblue], xaxis = (\"posição em x (m)\", x_limits),\n",
    "        yaxis = (\"posição em y (m)\", y_limits), size = (900,600), markersize = 6, framestyle = :zerolines,\n",
    "        label = :none)\n",
    "quiver!([x1],[y1], quiver = ([v1[1]],[v1[2]]), color = :lightcoral, lw = 2)\n",
    "quiver!([x1],[y1], quiver = ([a1[1]],[a1[2]]), color = :maroon, label = \"a1\")\n",
    "quiver!([x2],[y2], quiver = ([v2[1]],[v2[2]]), color = :cadetblue, lw = 2)\n",
    "quiver!([x2],[y2], quiver = ([a2[1]],[a2[2]]), color = :dodgerblue)\n",
    "annotate!(an_acel)"
   ]
  },
  {
   "cell_type": "markdown",
   "metadata": {},
   "source": [
    "Na imagem acima podemos ver sobre a mesma figura, os vetores $\\vec{v}_1$, $\\vec{a}_1$, $\\vec{v}_2$ e $\\vec{a}_2$. Podemos notar que, em nenhum dos dois instantes acima, a velocidade e a aceleração não estão na mesma direção, ou seja, não são vetores paralelos.\n",
    "\n",
    "Vamos ver como $\\vec{a}$ e $\\vec{v}$ se comportam durante toda a trajetória:"
   ]
  },
  {
   "cell_type": "code",
   "execution_count": null,
   "metadata": {},
   "outputs": [],
   "source": [
    "@gif for i = 1:npoints\n",
    "    \n",
    "    t_str = @sprintf(\"t = %3.2f \\\\,{\\\\rm s}\", tempo[i])\n",
    "    t_str = replace(t_str, \".\" => \",\\\\!\")\n",
    "    time_text = latexstring(t_str)\n",
    "       \n",
    "    vx = (x(tempo[i]+dt/2)-x(tempo[i]-dt/2))/dt\n",
    "    vy = (y(tempo[i]+dt/2)-y(tempo[i]-dt/2))/dt\n",
    "    \n",
    "    v_str = @sprintf(\"\\\\vec{v} = (%4.2f \\\\,{\\\\rm m/s}, %4.2f \\\\,{\\\\rm m/s})\", vx, vy)\n",
    "    v_str = replace(v_str, \".\" => \",\\\\!\")\n",
    "    v_text = latexstring(v_str)\n",
    "        \n",
    "    ax = (x(tempo[i]+dt)-2*x(tempo[i]) +x(tempo[i]-dt))/dt^2\n",
    "    ay = (y(tempo[i]+dt)-2*y(tempo[i]) +y(tempo[i]-dt))/dt^2\n",
    "    \n",
    "    a_str = @sprintf(\"\\\\vec{a} = (%4.2f \\\\,{\\\\rm m/s^2}, %4.2f \\\\,{\\\\rm m/s^2})\", ax, ay)\n",
    "    a_str = replace(a_str, \".\" => \",\\\\!\")\n",
    "    a_text = latexstring(a_str)\n",
    "    \n",
    "    ann_all = [(-100, 0, text(time_text, halign = :left, valign= :bottom, pointsize = 12, color = :red)),\n",
    "        (-100, 15, text(v_text, halign = :left, valign = :bottom, pointsize = 12, color = :dodgerblue)),\n",
    "        (-100, 30, text(a_text, halign = :left, valign = :bottom, pointsize = 12, color = :maroon))]\n",
    "    \n",
    "    plot(xpos, ypos, ls = :dash, lw = 2, alpha = 0.5, color = :red)\n",
    "    scatter!([xpos[i]],[ypos[i]], color = :dodgerblue, xaxis = (\"posição em x (m)\", (xmin-50,xmax+50)),\n",
    "        yaxis = (\"posição em y (m)\", (ymin-10,ymax+50)), size = (900,400), markersize = 6)\n",
    "    quiver!([xpos[i]],[ypos[i]], quiver = ([ax],[ay]), color = :maroon)\n",
    "    quiver!([xpos[i]],[ypos[i]], quiver = ([vx],[vy]), color = :dodgerblue)\n",
    "    annotate!(ann_all)\n",
    "end"
   ]
  },
  {
   "cell_type": "markdown",
   "metadata": {},
   "source": [
    "Analisando a trajetória, notamos que a velocidade e a aceleração raramente possuem a mesma direção. Isso ocorre em poucos instantes. Apenas em trajetórias retilíneas, a aceleração e a velocidade compartilham a mesma direção, em qualquer outro tipo de trajetória, isso é raro de ocorrer! Entretanto, quando um objeto se move em duas dimensões, sempre é possível decompor o vetor aceleração em duas componentes: uma componente tangencial ao movimento, e outra componente perpendicular ao movimento.\n",
    "\n",
    "A componente tangencial da aceleração é chamada de **aceleração tangencial, $\\vec{a}_t$**, e por ser tangencial, é a componente da aceleração que tem a mesma direção da velocidade, mas não necessariamente tem o mesmo sentido. Já a componente da aceleração perpendicular ao movimento é chamada de **aceleração centrípeta, $\\vec{a}_c$** e é sempre perpendicular à $\\vec{v}$:\n",
    "\n",
    "$$\\vec{a} = \\vec{a}_t + \\vec{a}_c.$$\n",
    "\n",
    "Abaixo, fizemos a decomposição vetorial de $\\vec{a}$ em suas componentes tangencial e centrípeta nos instantes $t_1$ e $t_2$. "
   ]
  },
  {
   "cell_type": "code",
   "execution_count": null,
   "metadata": {},
   "outputs": [],
   "source": [
    "v1_dir = v1/hypot(vx1,vy1)\n",
    "\n",
    "at1 = dot(a1,v1_dir) * v1_dir\n",
    "ac1 = a1 - at1\n",
    "\n",
    "at1_str = @sprintf(\"\\\\vec{a}_{t,1} = (%4.2f \\\\,{\\\\rm m/s^2}, %4.2f \\\\,{\\\\rm m/s^2}) \\\\newline\", at1[1], at1[2])\n",
    "at1_str = replace(at1_str, \".\" => \",\\\\!\")\n",
    "ac1_str = @sprintf(\"\\\\vec{a}_{c,1} = (%4.2f \\\\,{\\\\rm m/s^2}, %4.2f \\\\,{\\\\rm m/s^2})\", ac1[1], ac1[2])\n",
    "ac1_str = replace(ac1_str, \".\" => \",\\\\!\")\n",
    "latexstring(at1_str, ac1_str)"
   ]
  },
  {
   "cell_type": "code",
   "execution_count": null,
   "metadata": {},
   "outputs": [],
   "source": [
    "v2_dir = v2/hypot(vx2,vy2)\n",
    "\n",
    "at2 = dot(a2,v2_dir) * v2_dir\n",
    "ac2 = a2 - at2\n",
    "\n",
    "at2_str = @sprintf(\"\\\\vec{a}_{t,2} = (%4.2f \\\\,{\\\\rm m/s^2}, %4.2f \\\\,{\\\\rm m/s^2}) \\\\newline\", at2[1], at2[2])\n",
    "at2_str = replace(at2_str, \".\" => \",\\\\!\")\n",
    "ac2_str = @sprintf(\"\\\\vec{a}_{c,2} = (%4.2f \\\\,{\\\\rm m/s^2}, %4.2f \\\\,{\\\\rm m/s^2})\", ac2[1], ac2[2])\n",
    "ac2_str = replace(ac2_str, \".\" => \",\\\\!\")\n",
    "latexstring(at2_str, ac2_str)"
   ]
  },
  {
   "cell_type": "code",
   "execution_count": null,
   "metadata": {},
   "outputs": [],
   "source": [
    "plot(xpos, ypos, ls = :dash, lw = 2, alpha = 0.2, color = :red, legend = false)\n",
    "scatter!([x1,x2],[y1,y2], color = [:red, :dodgerblue], xaxis = (\"posição em x (m)\", x_limits),\n",
    "        yaxis = (\"posição em y (m)\", y_limits), size = (900,600), markersize = 6, framestyle = :zerolines)\n",
    "quiver!([x1,x2],[y1,y2], quiver = ([a1[1]*2,a2[1]*2],[a1[2]*2,a2[2]*2]), color = :skyblue, lw = 2)\n",
    "quiver!([x1,x2],[y1,y2], quiver = ([at1[1]*2,at2[1]*2],[at1[2]*2,at2[2]*2]), color = :green, arrow = :closed)\n",
    "quiver!([x1,x2],[y1,y2], quiver = ([ac1[1]*2,ac2[1]*2],[ac1[2]*2,ac2[2]*2]), color = :maroon, \n",
    "    arrow = :closed)\n",
    "\n",
    "#annotate!(an_acel)"
   ]
  },
  {
   "cell_type": "markdown",
   "metadata": {},
   "source": [
    "A animação abaixo mostra como as componentes tangencial e centrípeta da aceleração variam durante toda a trajetória - na animação, dobramos o tamanho dos vetores para facilitar a visualização no início da trajetória."
   ]
  },
  {
   "cell_type": "code",
   "execution_count": null,
   "metadata": {},
   "outputs": [],
   "source": [
    "@gif for i = 1:npoints\n",
    "    t_str = @sprintf(\"t = %3.2f \\\\,{\\\\rm s}\", tempo[i])\n",
    "    t_str = replace(t_str, \".\" => \",\\\\!\")\n",
    "    time_text = latexstring(t_str)\n",
    "    \n",
    "    vx = (x(tempo[i]+dt/2)-x(tempo[i]-dt/2))/dt\n",
    "    vy = (y(tempo[i]+dt/2)-y(tempo[i]-dt/2))/dt\n",
    "    \n",
    "    vmod = hypot(vx,vy)\n",
    "    vdir = [vx,vy]/vmod\n",
    "    \n",
    "    ax = (x(tempo[i]+dt)-2*x(tempo[i]) +x(tempo[i]-dt))/dt^2\n",
    "    ay = (y(tempo[i]+dt)-2*y(tempo[i]) +y(tempo[i]-dt))/dt^2\n",
    "    a = [ax,ay]\n",
    "    \n",
    "    at = dot(a, vdir) * vdir\n",
    "    ac = a - at\n",
    "    \n",
    "    at_str = @sprintf(\"\\\\vec{a}_t = (%4.2f \\\\,{\\\\rm m/s^2}, %4.2f \\\\,{\\\\rm m/s^2})\", ax, ay)\n",
    "    at_str = replace(at_str, \".\" => \",\\\\!\")\n",
    "    at_text = latexstring(at_str)\n",
    "    ac_str = @sprintf(\"\\\\vec{a}_c = (%4.2f \\\\,{\\\\rm m/s^2}, %4.2f \\\\,{\\\\rm m/s^2})\", ac[1], ac[2])\n",
    "    ac_str = replace(ac_str, \".\" => \",\\\\!\")\n",
    "    ac_text = latexstring(ac_str)\n",
    "    \n",
    "    ann_all = [(-100, 0, text(time_text, halign = :left, valign= :bottom, pointsize = 12, color = :red)),\n",
    "        (-100, 15, text(at_text, halign = :left, valign = :bottom, pointsize = 12, color = :green)),\n",
    "        (-100, 30, text(ac_text, halign = :left, valign = :bottom, pointsize = 12, color = :maroon))]\n",
    "    \n",
    "    plot(xpos, ypos, ls = :dash, lw = 2, alpha = 0.5, color = :red)\n",
    "    scatter!([xpos[i]],[ypos[i]], color = :dodgerblue, xaxis = (\"posição em x (m)\", (xmin-50,xmax+50)),\n",
    "        yaxis = (\"posição em y (m)\", (ymin-10,ymax+50)), size = (900,400), markersize = 6)\n",
    "    quiver!([xpos[i]],[ypos[i]], quiver = ([a[1]*2],[a[2]*2]), color = :skyblue, alpha = 0.5, lw = 2)\n",
    "    quiver!([xpos[i]],[ypos[i]], quiver = ([at[1]*2],[at[2]*2]), color = :green, arrow = :closed)\n",
    "    quiver!([xpos[i]],[ypos[i]], quiver = ([ac[1]*2],[ac[2]*2]), color = :maroon, arrow = :closed)\n",
    "    annotate!(ann_all)\n",
    "end"
   ]
  },
  {
   "cell_type": "markdown",
   "metadata": {},
   "source": [
    "Podemos notar que a componente centrípeta da aceleração em um certo instante sempre aponta para o centro de curvatura da trajetória naquele instante.\n",
    "\n",
    "Ambas as componentes da aceleração atuam de forma diferente sobre o vetor velocidade: enquanto a componente tangencial é a componente responsável por alterar apenas o módulo da velocidade - aumentando o módulo da velocidade ou diminuindo conforme seu sentido; a componente centrípeta é a responsável por alterar apenas a direção da velocidade."
   ]
  },
  {
   "cell_type": "code",
   "execution_count": null,
   "metadata": {},
   "outputs": [],
   "source": []
  }
 ],
 "metadata": {
  "kernelspec": {
   "display_name": "Julia 1.4.0",
   "language": "julia",
   "name": "julia-1.4"
  },
  "language_info": {
   "file_extension": ".jl",
   "mimetype": "application/julia",
   "name": "julia",
   "version": "1.4.2"
  }
 },
 "nbformat": 4,
 "nbformat_minor": 4
}
